{
 "cells": [
  {
   "cell_type": "code",
   "execution_count": 1,
   "id": "e49e4c34",
   "metadata": {},
   "outputs": [],
   "source": [
    "data_path = '/Users/artemvolkov/Desktop/Machine_learning_and_predictive_analysis/Lecture_1'"
   ]
  },
  {
   "cell_type": "code",
   "execution_count": 28,
   "id": "9668df02",
   "metadata": {},
   "outputs": [
    {
     "name": "stderr",
     "output_type": "stream",
     "text": [
      "/Users/artemvolkov/opt/anaconda3/envs/myenv/lib/python3.9/site-packages/scipy/__init__.py:146: UserWarning: A NumPy version >=1.16.5 and <1.23.0 is required for this version of SciPy (detected version 1.23.5\n",
      "  warnings.warn(f\"A NumPy version >={np_minversion} and <{np_maxversion}\"\n"
     ]
    }
   ],
   "source": [
    "import pandas as pd\n",
    "import numpy as np\n",
    "import os\n",
    "import statsmodels.api as sm"
   ]
  },
  {
   "cell_type": "code",
   "execution_count": 92,
   "id": "1a72a6b2",
   "metadata": {},
   "outputs": [],
   "source": [
    "data = pd.read_csv(os.path.join(data_path,\"test_sample.csv\"))\n",
    "X = data.iloc[:,1:]\n",
    "Y = data['Y']\n",
    "Xs = [\"X%i\"% (j-1) for j in range(2,493)]"
   ]
  },
  {
   "cell_type": "markdown",
   "id": "380a336e",
   "metadata": {},
   "source": [
    "Fitting linear models with predictors' numbers from 2 to 491"
   ]
  },
  {
   "cell_type": "code",
   "execution_count": 110,
   "id": "76b598ec",
   "metadata": {},
   "outputs": [],
   "source": [
    "lms_unordered = [sm.OLS(Y, sm.add_constant(X.iloc[:,:j])).fit() for j in range(2,492)]"
   ]
  },
  {
   "cell_type": "markdown",
   "id": "383157db",
   "metadata": {},
   "source": [
    "Let us find determination coefficient for each model and find one with the smallest number of predictors, where it reaches level greater than 90%."
   ]
  },
  {
   "cell_type": "code",
   "execution_count": 123,
   "id": "07750ac9",
   "metadata": {},
   "outputs": [
    {
     "data": {
      "text/plain": [
       "334"
      ]
     },
     "execution_count": 123,
     "metadata": {},
     "output_type": "execute_result"
    }
   ],
   "source": [
    "r2s = np.array([model.rsquared for model in lms_unordered])\n",
    "N_orig = np.argmax(r2s > 0.9)+2\n",
    "N_orig"
   ]
  },
  {
   "cell_type": "markdown",
   "id": "d514423b",
   "metadata": {},
   "source": [
    "## The least features number enough for $R^2 >0.9$ is 334."
   ]
  },
  {
   "cell_type": "markdown",
   "id": "ebc0c177",
   "metadata": {},
   "source": [
    "Now let us apply PCA method for our features set, then fit models using the resulting feature set and find the least number of primary components to exceed the 0.9 level for $R^2$."
   ]
  },
  {
   "cell_type": "code",
   "execution_count": 124,
   "id": "f163e837",
   "metadata": {},
   "outputs": [],
   "source": [
    "from sklearn.decomposition import PCA"
   ]
  },
  {
   "cell_type": "code",
   "execution_count": 125,
   "id": "ff369b8e",
   "metadata": {},
   "outputs": [
    {
     "data": {
      "text/html": [
       "<style>#sk-container-id-4 {color: black;background-color: white;}#sk-container-id-4 pre{padding: 0;}#sk-container-id-4 div.sk-toggleable {background-color: white;}#sk-container-id-4 label.sk-toggleable__label {cursor: pointer;display: block;width: 100%;margin-bottom: 0;padding: 0.3em;box-sizing: border-box;text-align: center;}#sk-container-id-4 label.sk-toggleable__label-arrow:before {content: \"▸\";float: left;margin-right: 0.25em;color: #696969;}#sk-container-id-4 label.sk-toggleable__label-arrow:hover:before {color: black;}#sk-container-id-4 div.sk-estimator:hover label.sk-toggleable__label-arrow:before {color: black;}#sk-container-id-4 div.sk-toggleable__content {max-height: 0;max-width: 0;overflow: hidden;text-align: left;background-color: #f0f8ff;}#sk-container-id-4 div.sk-toggleable__content pre {margin: 0.2em;color: black;border-radius: 0.25em;background-color: #f0f8ff;}#sk-container-id-4 input.sk-toggleable__control:checked~div.sk-toggleable__content {max-height: 200px;max-width: 100%;overflow: auto;}#sk-container-id-4 input.sk-toggleable__control:checked~label.sk-toggleable__label-arrow:before {content: \"▾\";}#sk-container-id-4 div.sk-estimator input.sk-toggleable__control:checked~label.sk-toggleable__label {background-color: #d4ebff;}#sk-container-id-4 div.sk-label input.sk-toggleable__control:checked~label.sk-toggleable__label {background-color: #d4ebff;}#sk-container-id-4 input.sk-hidden--visually {border: 0;clip: rect(1px 1px 1px 1px);clip: rect(1px, 1px, 1px, 1px);height: 1px;margin: -1px;overflow: hidden;padding: 0;position: absolute;width: 1px;}#sk-container-id-4 div.sk-estimator {font-family: monospace;background-color: #f0f8ff;border: 1px dotted black;border-radius: 0.25em;box-sizing: border-box;margin-bottom: 0.5em;}#sk-container-id-4 div.sk-estimator:hover {background-color: #d4ebff;}#sk-container-id-4 div.sk-parallel-item::after {content: \"\";width: 100%;border-bottom: 1px solid gray;flex-grow: 1;}#sk-container-id-4 div.sk-label:hover label.sk-toggleable__label {background-color: #d4ebff;}#sk-container-id-4 div.sk-serial::before {content: \"\";position: absolute;border-left: 1px solid gray;box-sizing: border-box;top: 0;bottom: 0;left: 50%;z-index: 0;}#sk-container-id-4 div.sk-serial {display: flex;flex-direction: column;align-items: center;background-color: white;padding-right: 0.2em;padding-left: 0.2em;position: relative;}#sk-container-id-4 div.sk-item {position: relative;z-index: 1;}#sk-container-id-4 div.sk-parallel {display: flex;align-items: stretch;justify-content: center;background-color: white;position: relative;}#sk-container-id-4 div.sk-item::before, #sk-container-id-4 div.sk-parallel-item::before {content: \"\";position: absolute;border-left: 1px solid gray;box-sizing: border-box;top: 0;bottom: 0;left: 50%;z-index: -1;}#sk-container-id-4 div.sk-parallel-item {display: flex;flex-direction: column;z-index: 1;position: relative;background-color: white;}#sk-container-id-4 div.sk-parallel-item:first-child::after {align-self: flex-end;width: 50%;}#sk-container-id-4 div.sk-parallel-item:last-child::after {align-self: flex-start;width: 50%;}#sk-container-id-4 div.sk-parallel-item:only-child::after {width: 0;}#sk-container-id-4 div.sk-dashed-wrapped {border: 1px dashed gray;margin: 0 0.4em 0.5em 0.4em;box-sizing: border-box;padding-bottom: 0.4em;background-color: white;}#sk-container-id-4 div.sk-label label {font-family: monospace;font-weight: bold;display: inline-block;line-height: 1.2em;}#sk-container-id-4 div.sk-label-container {text-align: center;}#sk-container-id-4 div.sk-container {/* jupyter's `normalize.less` sets `[hidden] { display: none; }` but bootstrap.min.css set `[hidden] { display: none !important; }` so we also need the `!important` here to be able to override the default hidden behavior on the sphinx rendered scikit-learn.org. See: https://github.com/scikit-learn/scikit-learn/issues/21755 */display: inline-block !important;position: relative;}#sk-container-id-4 div.sk-text-repr-fallback {display: none;}</style><div id=\"sk-container-id-4\" class=\"sk-top-container\"><div class=\"sk-text-repr-fallback\"><pre>PCA(n_components=491)</pre><b>In a Jupyter environment, please rerun this cell to show the HTML representation or trust the notebook. <br />On GitHub, the HTML representation is unable to render, please try loading this page with nbviewer.org.</b></div><div class=\"sk-container\" hidden><div class=\"sk-item\"><div class=\"sk-estimator sk-toggleable\"><input class=\"sk-toggleable__control sk-hidden--visually\" id=\"sk-estimator-id-4\" type=\"checkbox\" checked><label for=\"sk-estimator-id-4\" class=\"sk-toggleable__label sk-toggleable__label-arrow\">PCA</label><div class=\"sk-toggleable__content\"><pre>PCA(n_components=491)</pre></div></div></div></div></div>"
      ],
      "text/plain": [
       "PCA(n_components=491)"
      ]
     },
     "execution_count": 125,
     "metadata": {},
     "output_type": "execute_result"
    }
   ],
   "source": [
    "xPCA = PCA(n_components = data.shape[1]-1)\n",
    "xPCA.fit(X)"
   ]
  },
  {
   "cell_type": "code",
   "execution_count": 126,
   "id": "c6adcbac",
   "metadata": {},
   "outputs": [],
   "source": [
    "lms_pca = [sm.OLS(Y, sm.add_constant(np.dot(X, xPCA.components_.T)[:,:j])).fit() for j in range(2, 492)]"
   ]
  },
  {
   "cell_type": "code",
   "execution_count": 128,
   "id": "2397ee34",
   "metadata": {},
   "outputs": [
    {
     "data": {
      "text/plain": [
       "245"
      ]
     },
     "execution_count": 128,
     "metadata": {},
     "output_type": "execute_result"
    }
   ],
   "source": [
    "r2s = np.array([model.rsquared for model in lms_pca])\n",
    "N_PCA = np.argmax(r2s>0.9)+2\n",
    "N_PCA"
   ]
  },
  {
   "cell_type": "markdown",
   "id": "4481b4df",
   "metadata": {},
   "source": [
    "## We see, that the least numer of PCs is 245, which is much less than basic number of components reached in the previous step."
   ]
  },
  {
   "cell_type": "markdown",
   "id": "2ea273d0",
   "metadata": {},
   "source": [
    "Let us sort PCAs and then reestimate LMs on ordered PCA set."
   ]
  },
  {
   "cell_type": "markdown",
   "id": "c2e81e11",
   "metadata": {},
   "source": [
    "Defining function of calculation of relative importance measures."
   ]
  },
  {
   "cell_type": "code",
   "execution_count": 134,
   "id": "318415db",
   "metadata": {},
   "outputs": [],
   "source": [
    "def rel_imp_me(X, y): \n",
    "    names = X.columns\n",
    "    ser = pd.Series(index = names, dtype = np.float64)\n",
    "    lm0 = sm.OLS(y, sm.add_constant(X)).fit()\n",
    "    for c in names:\n",
    "        lm = sm.OLS(y, sm.add_constant(X[names.drop(c)])).fit()\n",
    "        ser[c] = lm0.rsquared - lm.rsquared \n",
    "    res = pd.DataFrame(columns =['last', 'first', 'betasq', 'pratt'], index=names)\n",
    "    res['last'] = ser\n",
    "    corr = X.apply(lambda x: np.corrcoef(y,x)[0,1], axis=0)\n",
    "    res['first'] = corr**2\n",
    "    sx = X.std()\n",
    "    res['betasq'] = (lm0.params[names] * sx / np.std(y))**2\n",
    "    res['pratt'] = (lm0.params[names] * sx / np.std(y)) * corr\n",
    "    return res"
   ]
  },
  {
   "cell_type": "code",
   "execution_count": 135,
   "id": "edcd4576",
   "metadata": {},
   "outputs": [],
   "source": [
    "factorScores = pd.DataFrame(np.dot(X, xPCA.components_.T), columns = [\"PC%i\"%(j+1) for j in range(491)])\n",
    "metrics_PCA = rel_imp_me(factorScores, Y)"
   ]
  },
  {
   "cell_type": "code",
   "execution_count": 136,
   "id": "352b4d29",
   "metadata": {},
   "outputs": [],
   "source": [
    "ranked_pca = metrics_PCA[\"first\"].rank(ascending=False, method='first')"
   ]
  },
  {
   "cell_type": "code",
   "execution_count": 137,
   "id": "6b8ae0ba",
   "metadata": {},
   "outputs": [],
   "source": [
    "metrics_PCA_sort = pd.DataFrame({\"Factors\" : ranked_pca.index,\n",
    "                                 \"Rank\" : ranked_pca.values}).sort_values(by=\"Rank\")\n",
    "ordered_factor_scores = pd.DataFrame(factorScores, columns=metrics_PCA_sort[\"Factors\"])"
   ]
  },
  {
   "cell_type": "code",
   "execution_count": 138,
   "id": "1117c146",
   "metadata": {},
   "outputs": [],
   "source": [
    "lms_pca = [sm.OLS(Y, sm.add_constant(ordered_factor_scores.iloc[:,:j])).fit() for j in range(2, 492)]"
   ]
  },
  {
   "cell_type": "code",
   "execution_count": 139,
   "id": "1d26333a",
   "metadata": {},
   "outputs": [
    {
     "data": {
      "text/plain": [
       "138"
      ]
     },
     "execution_count": 139,
     "metadata": {},
     "output_type": "execute_result"
    }
   ],
   "source": [
    "r2s = np.array([model.rsquared for model in lms_pca])\n",
    "N_PCA = np.argmax(r2s>0.9)+2\n",
    "N_PCA"
   ]
  },
  {
   "cell_type": "markdown",
   "id": "3b25d956",
   "metadata": {},
   "source": [
    "## After sorting PCs we can see, that the least number has dropped even more, and now it is 138.\n",
    "## Thus, we have reduced the dimension of feature space for 0.9 determination level from 334 to 138 components."
   ]
  },
  {
   "cell_type": "code",
   "execution_count": 145,
   "id": "f1eb26b8",
   "metadata": {},
   "outputs": [
    {
     "data": {
      "text/plain": [
       "0.9009692232515636"
      ]
     },
     "execution_count": 145,
     "metadata": {},
     "output_type": "execute_result"
    }
   ],
   "source": [
    "lms_pca[N_PCA-2].rsquared"
   ]
  }
 ],
 "metadata": {
  "kernelspec": {
   "display_name": "Python 3 (ipykernel)",
   "language": "python",
   "name": "python3"
  },
  "language_info": {
   "codemirror_mode": {
    "name": "ipython",
    "version": 3
   },
   "file_extension": ".py",
   "mimetype": "text/x-python",
   "name": "python",
   "nbconvert_exporter": "python",
   "pygments_lexer": "ipython3",
   "version": "3.9.16"
  }
 },
 "nbformat": 4,
 "nbformat_minor": 5
}
